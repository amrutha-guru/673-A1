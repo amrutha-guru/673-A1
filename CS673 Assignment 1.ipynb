{
 "cells": [
  {
   "cell_type": "code",
   "execution_count": 3,
   "id": "77211412",
   "metadata": {},
   "outputs": [
    {
     "name": "stdout",
     "output_type": "stream",
     "text": [
      "    1      2      3      4      5      6      7      8      9     10     11     12  \n",
      "    2      4      6      8     10     12     14     16     18     20     22     24  \n",
      "    3      6      9     12     15     18     21     24     27     30     33     36  \n",
      "    4      8     12     16     20     24     28     32     36     40     44     48  \n",
      "    5     10     15     20     25     30     35     40     45     50     55     60  \n",
      "    6     12     18     24     30     36     42     48     54     60     66     72  \n",
      "    7     14     21     28     35     42     49     56     63     70     77     84  \n",
      "    8     16     24     32     40     48     56     64     72     80     88     96  \n",
      "    9     18     27     36     45     54     63     72     81     90     99    108  \n",
      "   10     20     30     40     50     60     70     80     90    100    110    120  \n",
      "   11     22     33     44     55     66     77     88     99    110    121    132  \n",
      "   12     24     36     48     60     72     84     96    108    120    132    144  \n"
     ]
    }
   ],
   "source": [
    "# 2. Write a program that prints a multiplication table for numbers up to 12.\n",
    "\n",
    "i = 1\n",
    "j = 1\n",
    "for i in range(1, 13):\n",
    "    for j in range(1, 13):\n",
    "        print(f\"{i * j:5}\", end=\"  \")\n",
    "    print()  \n"
   ]
  },
  {
   "cell_type": "markdown",
   "id": "dee7e7b5",
   "metadata": {},
   "source": [
    "In problem #2, I first initialise the i and j values to 1. Then I run a loop for both i and j from 1 to 13 (which will run 12 times each) and within the loop I print the resulting multiplcation value of i * j with a spacing of 5 between each number and use end for spacing as well, and the final print() for going to a new line."
   ]
  },
  {
   "cell_type": "code",
   "execution_count": 12,
   "id": "2e750ce6",
   "metadata": {},
   "outputs": [
    {
     "name": "stdout",
     "output_type": "stream",
     "text": [
      "Enter string : hello\n",
      "hello is not a palindrome\n"
     ]
    }
   ],
   "source": [
    "#3. Write a program that asks a user to input a string and then determine if it’s a palindrome. If it is, print out “The string <the string the user typed in> [is | is not] a palindrome. If the user types q, the program exits.\n",
    "\n",
    "str = input(\"Enter string : \")\n",
    "if str == 'q' :\n",
    "    print(\"Exiting program\")\n",
    "    exit(1)\n",
    "elif str == str[::-1] :\n",
    "    print(f\"{str} is a palindrome\")\n",
    "else :\n",
    "    print(f\"{str} is not a palindrome\")\n",
    "    "
   ]
  },
  {
   "cell_type": "markdown",
   "id": "525181b8",
   "metadata": {},
   "source": [
    "Problem #3 : Showing the above result for a string that is not a palindrome."
   ]
  },
  {
   "cell_type": "code",
   "execution_count": 5,
   "id": "40ac10e0",
   "metadata": {},
   "outputs": [
    {
     "name": "stdout",
     "output_type": "stream",
     "text": [
      "Enter string : malayalam\n",
      "malayalam is a palindrome\n"
     ]
    }
   ],
   "source": [
    "#3. Write a program that asks a user to input a string and then determine if it’s a palindrome. If it is, print out “The string <the string the user typed in> [is | is not] a palindrome. If the user types q, the program exits.\n",
    "\n",
    "str = input(\"Enter string : \")\n",
    "if str == 'q' :\n",
    "    print(\"Exiting program\")\n",
    "    exit(1)\n",
    "elif str == str[::-1] :\n",
    "    print(f\"{str} is a palindrome\")\n",
    "else :\n",
    "    print(f\"{str} is not a palindrome\")\n",
    "    "
   ]
  },
  {
   "cell_type": "markdown",
   "id": "fd71e6f7",
   "metadata": {},
   "source": [
    "Problem #3 : Showing the above result for a string that is a palindrome."
   ]
  },
  {
   "cell_type": "code",
   "execution_count": 6,
   "id": "8472fabe",
   "metadata": {},
   "outputs": [
    {
     "name": "stdout",
     "output_type": "stream",
     "text": [
      "Enter string : q\n",
      "Exiting program\n"
     ]
    }
   ],
   "source": [
    "#3. Write a program that asks a user to input a string and then determine if it’s a palindrome. If it is, print out “The string <the string the user typed in> [is | is not] a palindrome. If the user types q, the program exits.\n",
    "\n",
    "str = input(\"Enter string : \")\n",
    "if str == 'q' :\n",
    "    print(\"Exiting program\")\n",
    "    exit(1)\n",
    "elif str == str[::-1] :\n",
    "    print(f\"{str} is a palindrome\")\n",
    "else :\n",
    "    print(f\"{str} is not a palindrome\")\n",
    "    "
   ]
  },
  {
   "cell_type": "markdown",
   "id": "e29f44ef",
   "metadata": {},
   "source": [
    "Problem #3 : Showing the above result when the user enters q , which exits the program."
   ]
  },
  {
   "cell_type": "markdown",
   "id": "968a50d2",
   "metadata": {},
   "source": [
    "In problem #3, I first input a string from the user into the variable str. Then I use the if statement with the following conditions, first to check if the user enters q, in which case the program is exited using the exit(1) command. Next I check if the string is equal to the reverse of the same string by using the ::-1 which gives the reverse string as result through the slicing operation. If they are both equal then I print a message saying it is a palindrome, and if not I print it is not a palindrome."
   ]
  },
  {
   "cell_type": "code",
   "execution_count": 7,
   "id": "0461930a",
   "metadata": {},
   "outputs": [
    {
     "name": "stdout",
     "output_type": "stream",
     "text": [
      "Enter list 1 : qwe\n",
      "Enter list 2 : 1234\n",
      "Lists are not of equal length \n",
      "[]\n"
     ]
    }
   ],
   "source": [
    "#4. Write a program that asks the user to input two lists of equal length in the format: [a,b,c], [1,2,3]. The program should test that both lists are of equal length, if not, print out an error message. If they are the same length, combine the two lists by alternatingly taking elements and output the results. Using the input example above, the output would be: [a,1,b,2,c,3].\n",
    "\n",
    "str1 = input(\"Enter list 1 : \")\n",
    "str2 = input(\"Enter list 2 : \")\n",
    "merge = []\n",
    "if len(str1) != len(str2) :\n",
    "    print(\"Lists are not of equal length \")\n",
    "else : \n",
    "\n",
    "    for i in range(len(str1)):\n",
    "        merge.append(str1[i])\n",
    "        merge.append(str2[i])\n",
    "\n",
    "print(merge)"
   ]
  },
  {
   "cell_type": "markdown",
   "id": "3bf5ee5b",
   "metadata": {},
   "source": [
    "Problem #4 : Showing the above result for when user enters lists of unequal length."
   ]
  },
  {
   "cell_type": "code",
   "execution_count": 8,
   "id": "38d142c2",
   "metadata": {},
   "outputs": [
    {
     "name": "stdout",
     "output_type": "stream",
     "text": [
      "Enter list 1 : qwe\n",
      "Enter list 2 : 123\n",
      "['q', '1', 'w', '2', 'e', '3']\n"
     ]
    }
   ],
   "source": [
    "#4. Write a program that asks the user to input two lists of equal length in the format: [a,b,c], [1,2,3]. The program should test that both lists are of equal length, if not, print out an error message. If they are the same length, combine the two lists by alternatingly taking elements and output the results. Using the input example above, the output would be: [a,1,b,2,c,3].\n",
    "\n",
    "str1 = input(\"Enter list 1 : \")\n",
    "str2 = input(\"Enter list 2 : \")\n",
    "merge = []\n",
    "if len(str1) != len(str2) :\n",
    "    print(\"Lists are not of equal length \")\n",
    "else : \n",
    "\n",
    "    for i in range(len(str1)):\n",
    "        merge.append(str1[i])\n",
    "        merge.append(str2[i])\n",
    "\n",
    "print(merge)"
   ]
  },
  {
   "cell_type": "markdown",
   "id": "eab12c48",
   "metadata": {},
   "source": [
    "Problem #4 : Showing the above result for when user enters lists of equal length."
   ]
  },
  {
   "cell_type": "markdown",
   "id": "dd62932e",
   "metadata": {},
   "source": [
    "In problem #4, first I input two lists from the user and store it in str1 and str2, and initialise the merge variable as empty. Then I check if the length of both lists are unequal, and if so print the required message. Else if they are equal, I start a for loop that runs the entire length of the list, and appends each character of list 1 and list 2 alternatively, into the merge variable. Finally I print merge which shows the resulting combined list. "
   ]
  },
  {
   "cell_type": "code",
   "execution_count": 9,
   "id": "9cc8500e",
   "metadata": {},
   "outputs": [
    {
     "name": "stdout",
     "output_type": "stream",
     "text": [
      "1\n",
      "1\n",
      "2\n",
      "3\n",
      "5\n",
      "8\n",
      "13\n",
      "21\n",
      "34\n",
      "55\n",
      "89\n",
      "144\n",
      "233\n",
      "377\n",
      "610\n",
      "987\n",
      "1597\n",
      "2584\n",
      "4181\n",
      "6765\n",
      "10946\n",
      "17711\n",
      "28657\n",
      "46368\n",
      "75025\n",
      "121393\n",
      "196418\n",
      "317811\n",
      "514229\n",
      "832040\n",
      "1346269\n",
      "2178309\n",
      "3524578\n",
      "5702887\n",
      "9227465\n",
      "14930352\n",
      "24157817\n",
      "39088169\n",
      "63245986\n",
      "102334155\n",
      "165580141\n",
      "267914296\n",
      "433494437\n",
      "701408733\n",
      "1134903170\n",
      "1836311903\n",
      "2971215073\n",
      "4807526976\n",
      "7778742049\n",
      "12586269025\n",
      "20365011074\n",
      "32951280099\n",
      "53316291173\n",
      "86267571272\n",
      "139583862445\n",
      "225851433717\n",
      "365435296162\n",
      "591286729879\n",
      "956722026041\n",
      "1548008755920\n",
      "2504730781961\n",
      "4052739537881\n",
      "6557470319842\n",
      "10610209857723\n",
      "17167680177565\n",
      "27777890035288\n",
      "44945570212853\n",
      "72723460248141\n",
      "117669030460994\n",
      "190392490709135\n",
      "308061521170129\n",
      "498454011879264\n",
      "806515533049393\n",
      "1304969544928657\n",
      "2111485077978050\n",
      "3416454622906707\n",
      "5527939700884757\n",
      "8944394323791464\n",
      "14472334024676221\n",
      "23416728348467685\n",
      "37889062373143906\n",
      "61305790721611591\n",
      "99194853094755497\n",
      "160500643816367088\n",
      "259695496911122585\n",
      "420196140727489673\n",
      "679891637638612258\n",
      "1100087778366101931\n",
      "1779979416004714189\n",
      "2880067194370816120\n",
      "4660046610375530309\n",
      "7540113804746346429\n",
      "12200160415121876738\n",
      "19740274219868223167\n",
      "31940434634990099905\n",
      "51680708854858323072\n",
      "83621143489848422977\n",
      "135301852344706746049\n",
      "218922995834555169026\n",
      "354224848179261915075\n"
     ]
    }
   ],
   "source": [
    "# 5. Write a program that computes the list of the first 100 Fibonacci numbers. The first two Fibonacci numbers are 1 and 1. The n+1 Fibonacci number is computed by adding the n-th and the n-1-th Fibonacci number. The first few are therefore 1, 1, 1+1=2, 1+2=3, 2+3=5, 3+5=8. Print out the results.\n",
    "\n",
    "def main():\n",
    "    for i in range (1,101):\n",
    "        print(fibo(i))\n",
    "\n",
    "def fibo(n):\n",
    "    n1 = 1\n",
    "    n2 = 1\n",
    "    temp = 0\n",
    "    i = 3\n",
    "    for i in range (3, n+1):\n",
    "        temp = n1\n",
    "        n1 = n1 + n2\n",
    "        n2 = temp \n",
    "    return n1\n",
    "\n",
    "main()"
   ]
  },
  {
   "cell_type": "markdown",
   "id": "3246bbe8",
   "metadata": {},
   "source": [
    "In problem #5, first I define a main function in which I run a for loop ranging from 1 to 101 which will run 100 times and calls the fibo function. Next I define the fibo function where I initialise n1 and n2 as 1 (as given in the question) and temp variable as 0 and i as 3. Then I run a for loop ranging from 3 to n+1 within which I increment the values of n1 and n2 using the temp variable for storing, finally returning n1 to print which will hold the sum of the previous 2 numbers until 100 numbers are reached. "
   ]
  },
  {
   "cell_type": "code",
   "execution_count": 10,
   "id": "7566f388",
   "metadata": {},
   "outputs": [
    {
     "name": "stdout",
     "output_type": "stream",
     "text": [
      "Enter year : 2000\n",
      "2000 is a leap year\n"
     ]
    }
   ],
   "source": [
    "# 6. Write a program that determines if an inputed year is a leap year.\n",
    "\n",
    "year = int(input (\"Enter year : \"))\n",
    "if (year % 4 == 0 and year % 100 != 0) or (year % 400) == 0:\n",
    "\n",
    "\n",
    "            print (f\"{year} is a leap year\")\n",
    "\n",
    "else:     \n",
    "\n",
    "            print (f\"{year} is not a leap year\")"
   ]
  },
  {
   "cell_type": "markdown",
   "id": "e8680543",
   "metadata": {},
   "source": [
    "Problem #6 : Showung the above result for a year that is a leap year."
   ]
  },
  {
   "cell_type": "code",
   "execution_count": 11,
   "id": "9f628d33",
   "metadata": {},
   "outputs": [
    {
     "name": "stdout",
     "output_type": "stream",
     "text": [
      "Enter year : 2009\n",
      "2009 is not a leap year\n"
     ]
    }
   ],
   "source": [
    "# 6. Write a program that determines if an inputed year is a leap year.\n",
    "\n",
    "year = int(input (\"Enter year : \"))\n",
    "if (year % 4 == 0 and year % 100 != 0) or (year % 400) == 0:\n",
    "\n",
    "\n",
    "            print (f\"{year} is a leap year\")\n",
    "\n",
    "else:     \n",
    "\n",
    "            print (f\"{year} is not a leap year\")"
   ]
  },
  {
   "cell_type": "markdown",
   "id": "c3e3b27c",
   "metadata": {},
   "source": [
    "Problem #6 : Showing the above result for a year that is not a leap year."
   ]
  },
  {
   "cell_type": "markdown",
   "id": "53bcd7db",
   "metadata": {},
   "source": [
    "In problem #6, I store the year input value from the user in the variable year and then run if condition to check if the given year is a leap year or not by checking if the year is divisible by 4 AND not 100, OR diviible by 400, and accordingly print the result."
   ]
  }
 ],
 "metadata": {
  "kernelspec": {
   "display_name": "Python 3 (ipykernel)",
   "language": "python",
   "name": "python3"
  },
  "language_info": {
   "codemirror_mode": {
    "name": "ipython",
    "version": 3
   },
   "file_extension": ".py",
   "mimetype": "text/x-python",
   "name": "python",
   "nbconvert_exporter": "python",
   "pygments_lexer": "ipython3",
   "version": "3.11.5"
  }
 },
 "nbformat": 4,
 "nbformat_minor": 5
}
